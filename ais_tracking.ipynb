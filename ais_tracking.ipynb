{
  "nbformat": 4,
  "nbformat_minor": 0,
  "metadata": {
    "colab": {
      "provenance": [],
      "authorship_tag": "ABX9TyM6j+HELaFKL3C5I22ge5Dr",
      "include_colab_link": true
    },
    "kernelspec": {
      "name": "python3",
      "display_name": "Python 3"
    },
    "language_info": {
      "name": "python"
    }
  },
  "cells": [
    {
      "cell_type": "markdown",
      "metadata": {
        "id": "view-in-github",
        "colab_type": "text"
      },
      "source": [
        "<a href=\"https://colab.research.google.com/github/saffa19/shippy/blob/main/ais_tracking.ipynb\" target=\"_parent\"><img src=\"https://colab.research.google.com/assets/colab-badge.svg\" alt=\"Open In Colab\"/></a>"
      ]
    },
    {
      "cell_type": "code",
      "source": [
        "#!pip install websockets\n",
        "#!pip install asyncio\n",
        "#!pip install nest_asyncio\n",
        "#!pip install descartes\n",
        "#!pip install geopandas"
      ],
      "metadata": {
        "id": "dSwWEp2MBl1w"
      },
      "execution_count": 1,
      "outputs": []
    },
    {
      "cell_type": "code",
      "source": [
        "import configparser\n",
        "\n",
        "def fetch_key(key):\n",
        "\n",
        "    cfg = configparser.ConfigParser()\n",
        "    cfg.read('config.cfg')\n",
        "\n",
        "    return cfg.get('KEYS', f'{key}', raw='')"
      ],
      "metadata": {
        "id": "-tJ6Rre9Ae0E"
      },
      "execution_count": 2,
      "outputs": []
    },
    {
      "cell_type": "code",
      "source": [
        "key = fetch_key('ais')"
      ],
      "metadata": {
        "id": "uaSh1SsVAhUf"
      },
      "execution_count": 3,
      "outputs": []
    },
    {
      "cell_type": "code",
      "source": [
        "#!rm -rf tracking\n",
        "#!mkdir tracking\n",
        "!rm -rf images\n",
        "!mkdir images"
      ],
      "metadata": {
        "id": "06HkZ8ZnTi3b"
      },
      "execution_count": 4,
      "outputs": []
    },
    {
      "cell_type": "code",
      "source": [
        "import os\n",
        "import json\n",
        "import pandas as pd\n",
        "\n",
        "def tracker(msg):\n",
        "    vessel_id = msg['Message']['PositionReport']['UserID']\n",
        "    path = f\"./tracking/{vessel_id}.json\"\n",
        "    position_report = msg['Message']['PositionReport']\n",
        "    metadata = msg['MetaData']\n",
        "    entry = position_report | metadata\n",
        "    #print(msg)\n",
        "\n",
        "    if not os.path.exists(path):\n",
        "        #print(f'creating {path}')\n",
        "        with open(path, 'w') as file:\n",
        "            json.dump([entry], file, indent = 4)\n",
        "    elif os.path.exists(path):\n",
        "        #print(f'updating {path}')\n",
        "        with open(path, 'r') as file:\n",
        "            data = json.load(file)\n",
        "        data.append(entry)\n",
        "        with open(path, 'w') as file:\n",
        "            json.dump(data, file, indent = 4)\n",
        "\n",
        "    else:\n",
        "        print(f'bad vessel {vessel_id}')\n",
        "\n",
        "    #df = pd.read_json(path)\n",
        "    #print(df.head())"
      ],
      "metadata": {
        "id": "NAP2IbA8LRaT"
      },
      "execution_count": 5,
      "outputs": []
    },
    {
      "cell_type": "code",
      "source": [
        "import pandas as pd\n",
        "import matplotlib.pyplot as plt\n",
        "import geopandas as gpd\n",
        "import json\n",
        "from shapely.geometry import Point, Polygon\n",
        "import pylab as pl\n",
        "from IPython import display\n",
        "\n",
        "def mapper(vessel_id):\n",
        "    with open(f'/content/tracking/{vessel_id}.json', 'r') as file:\n",
        "        data = json.load(file)\n",
        "    df = pd.DataFrame(data)\n",
        "    geometry = [Point(xy) for xy in zip(df['Longitude'], df['Latitude'])]\n",
        "    geo_df = gpd.GeoDataFrame(df, geometry=geometry)\n",
        "    #geo_df.head()\n",
        "\n",
        "    map = gpd.read_file('/content/maps/ne_10m_ocean.shp')\n",
        "\n",
        "    fig, ax = plt.subplots(figsize = (7,7))\n",
        "    map.plot(ax = ax, alpha = 0.4, color ='grey')\n",
        "    geo_df.plot(geo_df['Sog'], ax = ax, markersize = 10,legend=True, legend_kwds={\"label\": \"Speed over Ground (SoG)\", \"orientation\": \"horizontal\"})\n",
        "    plt.title(f'{df[\"UserID\"].iloc[0]} {df[\"ShipName\"].iloc[0].strip()}')\n",
        "    #plt.title('Ships')\n",
        "    posy, posx = geo_df['Latitude'].iloc[-1], geo_df['Longitude'].iloc[-1]\n",
        "    plt.xlim(posx-.8, posx+.8)\n",
        "    plt.ylim(posy-.8, posy+.8)\n",
        "    #plt.xlim(110,125)\n",
        "    #plt.ylim(15,30)\n",
        "    plt.xlabel(\"Latitude\")\n",
        "    plt.ylabel(\"Longitude\")\n",
        "\n",
        "    ax.annotate(geo_df['time_utc'].iloc[0][:16], (geo_df['Longitude'].iloc[0], geo_df['Latitude'].iloc[0]), xytext=(posx+.82, geo_df['Latitude'].iloc[0]), arrowprops = dict(arrowstyle=\"->\"))\n",
        "    ax.annotate(geo_df['time_utc'].iloc[-1][:16], (posx,posy), xytext=(posx+.82, posy), arrowprops = dict(arrowstyle=\"->\"))#ax.legend()\n",
        "\n",
        "    plt.savefig(f'/content/images/{df[\"UserID\"].iloc[0]} {df[\"time_utc\"].iloc[0][:10]}.png', bbox_inches='tight')\n",
        "    #plt.show()\n",
        "    plt.close()"
      ],
      "metadata": {
        "id": "16C_WGAaZ6nx"
      },
      "execution_count": 6,
      "outputs": []
    },
    {
      "cell_type": "code",
      "execution_count": null,
      "metadata": {
        "colab": {
          "base_uri": "https://localhost:8080/"
        },
        "id": "a2lrhsHX8UiQ",
        "outputId": "5a450e50-69d5-4c52-dd09-daccf2de9557"
      },
      "outputs": [
        {
          "output_type": "stream",
          "name": "stdout",
          "text": [
            "{'Message': {'StandardClassBPositionReport': {'AssignedMode': False, 'ClassBBand': True, 'ClassBDisplay': False, 'ClassBDsc': True, 'ClassBMsg22': False, 'ClassBUnit': True, 'Cog': 279.1, 'CommunicationState': 393222, 'CommunicationStateIsItdma': True, 'Latitude': 23.77729833333333, 'Longitude': 118.04919666666666, 'MessageID': 18, 'PositionAccuracy': False, 'Raim': False, 'RepeatIndicator': 0, 'Sog': 3.5, 'Spare1': 5, 'Spare2': 0, 'Timestamp': 36, 'TrueHeading': 511, 'UserID': 412445912, 'Valid': True}}, 'MessageType': 'StandardClassBPositionReport', 'MetaData': {'MMSI': 412445912, 'MMSI_String': 412445912, 'ShipName': '', 'latitude': 23.77729833333333, 'longitude': 118.04919666666666, 'time_utc': '2023-11-29 22:24:37.446762076 +0000 UTC'}}\n"
          ]
        }
      ],
      "source": [
        "import asyncio, nest_asyncio\n",
        "import websockets\n",
        "import json\n",
        "from datetime import datetime, timezone\n",
        "from IPython.display import clear_output\n",
        "\n",
        "\n",
        "nest_asyncio.apply()\n",
        "\n",
        "async def connect_ais_stream():\n",
        "\n",
        "    async with websockets.connect(\"wss://stream.aisstream.io/v0/stream\") as websocket:\n",
        "        subscribe_message = {\"APIKey\": key, \"BoundingBoxes\": [[[20,118], [24,119]]]}\n",
        "        subscribe_message_json = json.dumps(subscribe_message)\n",
        "        await websocket.send(subscribe_message_json)\n",
        "\n",
        "        async for message_json in websocket:\n",
        "            message = json.loads(message_json)\n",
        "            message_type = message[\"MessageType\"]\n",
        "            #print(message)\n",
        "            if message_type == \"PositionReport\":\n",
        "                # the message parameter contains a key of the message type which contains the message itself\n",
        "                ais_message = message['Message']['PositionReport']\n",
        "                tracker(message)\n",
        "                mapper(ais_message['UserID'])\n",
        "                #print(f'Tracked vessels: {len([name for name in os.listdir(\"/content/tracking/\") if os.path.isfile(name)])}')\n",
        "                #print(f\"[{datetime.now(timezone.utc)}] ShipId: {ais_message['UserID']} Latitude: {ais_message['Latitude']} Latitude: {ais_message['Longitude']}\")\n",
        "            else:\n",
        "                clear_output(wait=True)\n",
        "                print(message)\n",
        "\n",
        "\n",
        "loop = asyncio.get_event_loop()\n",
        "loop.run_until_complete(connect_ais_stream())\n",
        "loop.close()"
      ]
    },
    {
      "cell_type": "code",
      "source": [],
      "metadata": {
        "id": "5IFQBqf6eYTq"
      },
      "execution_count": null,
      "outputs": []
    }
  ]
}